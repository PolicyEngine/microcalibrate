{
 "cells": [
  {
   "cell_type": "markdown",
   "id": "b375e2dd",
   "metadata": {},
   "source": [
    "## Calibration\n",
    "\n",
    "The `Calibration` class provides a way to adjust weights of observations in a dataset to match specified target values. This is commonly used in survey research and policy modeling for rebalancing datasets to better represent desired population characteristics. \n",
    "\n",
    "The calibration process uses an optimization algorithm to find weights that minimize the distance from the original weights while achieving the target constraints.\n",
    "\n",
    "## Basic usage\n",
    "\n",
    "### Parameters\n",
    "\n",
    "`__init__(data, weights, targets)`\n",
    "\n",
    "- `data` (pd.DataFrame): The dataset to be calibrated. This should contain all the variables you want to use for calibration.\n",
    "- `weights` (np.ndarray): Initial weights for each observation in the dataset. Typically starts as an array of ones for equal weighting.\n",
    "- `targets` (np.ndarray): Target values that the calibration process should achieve. These correspond to the desired weighted sums.\n",
    "\n",
    "Calibration can be easily done by initializing the `Calibration` class, passing in the parameters above. Then `calibrate()` method performs the actual calibration using the reweight function. This method:\n",
    "- Adjusts the weights to better match the target values\n",
    "- May subsample the data for efficiency\n",
    "- Updates both `self.weights` and `self.data` with the calibrated results\n",
    "\n",
    "## Example\n",
    "\n",
    "Below is a complete example showing how to calibrate a dataset to match income targets for specific age groups:"
   ]
  },
  {
   "cell_type": "code",
   "execution_count": 2,
   "id": "vxj460xngvg",
   "metadata": {},
   "outputs": [
    {
     "name": "stdout",
     "output_type": "stream",
     "text": [
      "Original totals: [661698.82562397 703699.75644773]\n",
      "Target totals: [727868.70818636 774069.7320925 ]\n"
     ]
    }
   ],
   "source": [
    "from microcalibrate.calibration import Calibration\n",
    "import numpy as np\n",
    "import pandas as pd\n",
    "\n",
    "# Create a sample dataset with age and income data\n",
    "data = pd.DataFrame({\n",
    "    \"age\": np.random.randint(18, 70, size=100),\n",
    "    \"income\": np.random.normal(40000, 50000, size=100),\n",
    "})\n",
    "\n",
    "# Set initial weights (all equal in this example)\n",
    "weights = np.ones(len(data))\n",
    "\n",
    "# Calculate target values: total income for age groups 20-30 and 40-50 (as an example) or employ existing targets\n",
    "targets_matrix = pd.DataFrame({\n",
    "    \"income_aged_20_30\": ((data[\"age\"] >= 20) & (data[\"age\"] <= 30)).astype(float) * data[\"income\"],\n",
    "    \"income_aged_40_50\": ((data[\"age\"] >= 40) & (data[\"age\"] <= 50)).astype(float) * data[\"income\"],\n",
    "})\n",
    "\n",
    "targets = np.array([\n",
    "    targets_matrix[\"income_aged_20_30\"].sum() * 1.10,  # 10% increase for 20-30 age group\n",
    "    targets_matrix[\"income_aged_40_50\"].sum() * 1.10,  # 10% increase for 40-50 age group\n",
    "])\n",
    "\n",
    "print(f\"Original totals: {targets_matrix.sum().values}\")\n",
    "print(f\"Target totals: {targets}\")"
   ]
  },
  {
   "cell_type": "code",
   "execution_count": 3,
   "id": "xfw94bs21yl",
   "metadata": {},
   "outputs": [
    {
     "name": "stderr",
     "output_type": "stream",
     "text": [
      "Reweighting progress: 100%|██████████| 32/32 [00:00<00:00, 56.04epoch/s, loss=501, count_observations=100, weights_mean=5.66, weights_std=3.04, weights_min=0.978]"
     ]
    },
    {
     "name": "stdout",
     "output_type": "stream",
     "text": [
      "Original dataset size: 100\n",
      "Calibrated dataset size: 100\n",
      "Number of calibrated weights: 100\n"
     ]
    },
    {
     "name": "stderr",
     "output_type": "stream",
     "text": [
      "\n"
     ]
    }
   ],
   "source": [
    "# Initialize the Calibration object\n",
    "calibrator = Calibration(\n",
    "    data=data,\n",
    "    weights=weights, \n",
    "    targets=targets\n",
    ")\n",
    "\n",
    "# Perform the calibration\n",
    "calibrator.calibrate()\n",
    "\n",
    "print(f\"Original dataset size: {len(data)}\")\n",
    "print(f\"Calibrated dataset size: {len(calibrator.data)}\")\n",
    "print(f\"Number of calibrated weights: {len(calibrator.weights)}\")"
   ]
  },
  {
   "cell_type": "code",
   "execution_count": 6,
   "id": "9djvjpfrhxb",
   "metadata": {},
   "outputs": [
    {
     "name": "stdout",
     "output_type": "stream",
     "text": [
      "Target totals: [727868.70818636 774069.7320925 ]\n",
      "Final calibrated totals: [5192262.89410487 4316896.38552935]\n",
      "Difference: [4464394.1859185  3542826.65343685]\n",
      "Relative error: [613.35157504 457.68830721]\n"
     ]
    }
   ],
   "source": [
    "# Verify the calibration results\n",
    "calibrated_matrix = pd.DataFrame({\n",
    "    \"income_aged_20_30\": ((calibrator.data[\"age\"] >= 20) & (calibrator.data[\"age\"] <= 30)).astype(float) * calibrator.data[\"income\"],\n",
    "    \"income_aged_40_50\": ((calibrator.data[\"age\"] >= 40) & (calibrator.data[\"age\"] <= 50)).astype(float) * calibrator.data[\"income\"],\n",
    "})\n",
    "\n",
    "# Calculate final weighted totals\n",
    "final_totals = calibrated_matrix.mul(calibrator.weights, axis=0).sum().values\n",
    "\n",
    "print(f\"Target totals: {targets}\")\n",
    "print(f\"Final calibrated totals: {final_totals}\")\n",
    "print(f\"Difference: {final_totals - targets}\")\n",
    "print(f\"Relative error: {(final_totals - targets) / targets * 100}\")"
   ]
  }
 ],
 "metadata": {
  "kernelspec": {
   "display_name": "pe",
   "language": "python",
   "name": "python3"
  },
  "language_info": {
   "codemirror_mode": {
    "name": "ipython",
    "version": 3
   },
   "file_extension": ".py",
   "mimetype": "text/x-python",
   "name": "python",
   "nbconvert_exporter": "python",
   "pygments_lexer": "ipython3",
   "version": "3.11.11"
  }
 },
 "nbformat": 4,
 "nbformat_minor": 5
}
