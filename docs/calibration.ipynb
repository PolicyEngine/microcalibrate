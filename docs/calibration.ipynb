{
 "cells": [
  {
   "cell_type": "markdown",
   "id": "b375e2dd",
   "metadata": {},
   "source": [
    "## Calibration\n",
    "\n",
    "The `Calibration` class provides a way to adjust weights of observations in a dataset to match specified target values. This is commonly used in survey research and policy modeling for rebalancing datasets to better represent desired population characteristics. \n",
    "\n",
    "The calibration process uses an optimization algorithm to find weights that minimize the distance from the original weights while achieving the target constraints.\n",
    "\n",
    "## Basic usage\n",
    "\n",
    "### Parameters\n",
    "\n",
    "`__init__(data, weights, targets)`\n",
    "\n",
    "- `data` (pd.DataFrame): The dataset to be calibrated. This should contain all the variables you want to use for calibration.\n",
    "- `weights` (np.ndarray): Initial weights for each observation in the dataset. Typically starts as an array of ones for equal weighting.\n",
    "- `targets` (np.ndarray): Target values that the calibration process should achieve. These correspond to the desired weighted sums.\n",
    "\n",
    "Calibration can be easily done by initializing the `Calibration` class, passing in the parameters above. Then `calibrate()` method performs the actual calibration using the reweight function. This method:\n",
    "- Adjusts the weights to better match the target values\n",
    "- May subsample the data for efficiency\n",
    "- Updates both `self.weights` and `self.data` with the calibrated results\n",
    "\n",
    "## Example\n",
    "\n",
    "Below is a complete example showing how to calibrate a dataset to match income targets for specific age groups:"
   ]
  },
  {
   "cell_type": "code",
   "execution_count": null,
   "id": "vxj460xngvg",
   "metadata": {},
   "outputs": [
    {
     "name": "stdout",
     "output_type": "stream",
     "text": [
      "Original weights: [1. 1. 1. 1. 1. 1. 1. 1. 1. 1. 1. 1. 1. 1. 1. 1. 1. 1. 1. 1. 1. 1. 1. 1.\n",
      " 1. 1. 1. 1. 1. 1. 1. 1. 1. 1. 1. 1. 1. 1. 1. 1. 1. 1. 1. 1. 1. 1. 1. 1.\n",
      " 1. 1. 1. 1. 1. 1. 1. 1. 1. 1. 1. 1. 1. 1. 1. 1. 1. 1. 1. 1. 1. 1. 1. 1.\n",
      " 1. 1. 1. 1. 1. 1. 1. 1. 1. 1. 1. 1. 1. 1. 1. 1. 1. 1. 1. 1. 1. 1. 1. 1.\n",
      " 1. 1. 1. 1.]\n",
      "Original targets: [ 245346.0788293  1237963.09787856]\n"
     ]
    }
   ],
   "source": [
    "from microcalibrate.calibration import Calibration\n",
    "import logging\n",
    "import numpy as np\n",
    "import pandas as pd\n",
    "import plotly.graph_objs as go\n",
    "from plotly.subplots import make_subplots\n",
    "\n",
    "logging.basicConfig(\n",
    "    level=logging.INFO,\n",
    ")\n",
    "\n",
    "# Create a sample dataset with age and income data\n",
    "random_generator = np.random.default_rng(0)\n",
    "data = pd.DataFrame({\n",
    "    \"age\": random_generator.integers(18, 70, size=100),\n",
    "    \"income\": random_generator.normal(40000, 50000, size=100),\n",
    "})\n",
    "\n",
    "# Set initial weights (all one in this example)\n",
    "weights = np.ones(len(data))\n",
    "\n",
    "# Calculate target values: total income for age groups 20-30 and 40-50 (as an example) or employ existing targets\n",
    "targets_matrix = pd.DataFrame({\n",
    "    \"income_aged_20_30\": ((data[\"age\"] >= 20) & (data[\"age\"] <= 30)).astype(float) * data[\"income\"],\n",
    "    \"income_aged_40_50\": ((data[\"age\"] >= 40) & (data[\"age\"] <= 50)).astype(float) * data[\"income\"],\n",
    "})\n",
    "\n",
    "# 15% higher than the sum of data with the original weights\n",
    "targets = np.array([\n",
    "    (targets_matrix[\"income_aged_20_30\"] * weights * 1.15).sum(), \n",
    "    (targets_matrix[\"income_aged_40_50\"] * weights * 1.15).sum(), \n",
    "])\n",
    "\n",
    "print(f\"Original weights: {weights}\")\n",
    "print(f\"Original targets: {targets}\")"
   ]
  },
  {
   "cell_type": "code",
   "execution_count": 2,
   "id": "xfw94bs21yl",
   "metadata": {},
   "outputs": [
    {
     "name": "stderr",
     "output_type": "stream",
     "text": [
      "INFO:microcalibrate.reweight:Starting calibration process for targets ['income_aged_20_30' 'income_aged_40_50']: [ 245346.0788293  1237963.09787856]\n",
      "INFO:microcalibrate.reweight:Original weights - mean: 1.0000, std: 0.0000\n",
      "INFO:microcalibrate.reweight:Initial weights after noise - mean: 1.0225, std: 0.0142\n",
      "Reweighting progress:   0%|          | 0/528 [00:00<?, ?epoch/s, loss=0.0134, count_observations=100, weights_mean=1.02, weights_std=0.0142, weights_min=1]INFO:microcalibrate.reweight:Within 10% from targets: 0.00% \n",
      "\n",
      "Reweighting progress:   1%|          | 4/528 [00:00<00:13, 39.91epoch/s, loss=0.000593, count_observations=100, weights_mean=1.04, weights_std=0.0494, weights_min=0.936]INFO:microcalibrate.reweight:Within 10% from targets: 100.00% \n",
      "\n",
      "INFO:microcalibrate.reweight:Epoch   10: Loss = 0.000593, Change = 0.012784 (improving)\n",
      "Reweighting progress:   1%|          | 4/528 [00:00<00:13, 39.91epoch/s, loss=0.000549, count_observations=100, weights_mean=1.05, weights_std=0.0643, weights_min=0.898]INFO:microcalibrate.reweight:Within 10% from targets: 100.00% \n",
      "\n",
      "INFO:microcalibrate.reweight:Epoch   20: Loss = 0.000549, Change = 0.000045 (improving)\n",
      "Reweighting progress:   1%|          | 4/528 [00:00<00:13, 39.91epoch/s, loss=0.000191, count_observations=100, weights_mean=1.05, weights_std=0.0528, weights_min=0.913]INFO:microcalibrate.reweight:Within 10% from targets: 100.00% \n",
      "\n",
      "INFO:microcalibrate.reweight:Epoch   30: Loss = 0.000191, Change = 0.000358 (improving)\n",
      "Reweighting progress:   1%|          | 4/528 [00:00<00:13, 39.91epoch/s, loss=9.23e-5, count_observations=100, weights_mean=1.04, weights_std=0.0488, weights_min=0.923] INFO:microcalibrate.reweight:Within 10% from targets: 100.00% \n",
      "\n",
      "INFO:microcalibrate.reweight:Epoch   40: Loss = 0.000092, Change = 0.000098 (improving)\n",
      "Reweighting progress:   9%|▉         | 48/528 [00:00<00:01, 272.40epoch/s, loss=2.47e-7, count_observations=100, weights_mean=1.05, weights_std=0.0524, weights_min=0.914]INFO:microcalibrate.reweight:Within 10% from targets: 100.00% \n",
      "\n",
      "INFO:microcalibrate.reweight:Epoch   50: Loss = 0.000000, Change = 0.000092 (improving)\n",
      "Reweighting progress:   9%|▉         | 48/528 [00:00<00:01, 272.40epoch/s, loss=1.26e-5, count_observations=100, weights_mean=1.05, weights_std=0.0536, weights_min=0.911]INFO:microcalibrate.reweight:Within 10% from targets: 100.00% \n",
      "\n",
      "INFO:microcalibrate.reweight:Epoch   60: Loss = 0.000013, Change = -0.000012 (worsening)\n",
      "Reweighting progress:   9%|▉         | 48/528 [00:00<00:01, 272.40epoch/s, loss=4.31e-6, count_observations=100, weights_mean=1.04, weights_std=0.052, weights_min=0.915] INFO:microcalibrate.reweight:Within 10% from targets: 100.00% \n",
      "\n",
      "INFO:microcalibrate.reweight:Epoch   70: Loss = 0.000004, Change = 0.000008 (improving)\n",
      "Reweighting progress:   9%|▉         | 48/528 [00:00<00:01, 272.40epoch/s, loss=1.29e-6, count_observations=100, weights_mean=1.04, weights_std=0.052, weights_min=0.914]INFO:microcalibrate.reweight:Within 10% from targets: 100.00% \n",
      "\n",
      "INFO:microcalibrate.reweight:Epoch   80: Loss = 0.000001, Change = 0.000003 (improving)\n",
      "Reweighting progress:   9%|▉         | 48/528 [00:00<00:01, 272.40epoch/s, loss=6.55e-7, count_observations=100, weights_mean=1.05, weights_std=0.0527, weights_min=0.913]INFO:microcalibrate.reweight:Within 10% from targets: 100.00% \n",
      "\n",
      "INFO:microcalibrate.reweight:Epoch   90: Loss = 0.000001, Change = 0.000001 (improving)\n",
      "Reweighting progress:  18%|█▊        | 93/528 [00:00<00:01, 353.02epoch/s, loss=8.95e-8, count_observations=100, weights_mean=1.04, weights_std=0.0522, weights_min=0.914]INFO:microcalibrate.reweight:Within 10% from targets: 100.00% \n",
      "\n",
      "INFO:microcalibrate.reweight:Epoch  100: Loss = 0.000000, Change = 0.000001 (improving)\n",
      "Reweighting progress:  18%|█▊        | 93/528 [00:00<00:01, 353.02epoch/s, loss=1.06e-8, count_observations=100, weights_mean=1.04, weights_std=0.0523, weights_min=0.913]INFO:microcalibrate.reweight:Within 10% from targets: 100.00% \n",
      "\n",
      "INFO:microcalibrate.reweight:Epoch  110: Loss = 0.000000, Change = 0.000000 (improving)\n",
      "Reweighting progress:  18%|█▊        | 93/528 [00:00<00:01, 353.02epoch/s, loss=1.7e-8, count_observations=100, weights_mean=1.04, weights_std=0.0524, weights_min=0.913] INFO:microcalibrate.reweight:Within 10% from targets: 100.00% \n",
      "\n",
      "INFO:microcalibrate.reweight:Epoch  120: Loss = 0.000000, Change = -0.000000 (worsening)\n",
      "Reweighting progress:  18%|█▊        | 93/528 [00:00<00:01, 353.02epoch/s, loss=5.33e-9, count_observations=100, weights_mean=1.04, weights_std=0.0523, weights_min=0.913]INFO:microcalibrate.reweight:Within 10% from targets: 100.00% \n",
      "\n",
      "INFO:microcalibrate.reweight:Epoch  130: Loss = 0.000000, Change = 0.000000 (improving)\n",
      "Reweighting progress:  25%|██▌       | 132/528 [00:00<00:01, 366.24epoch/s, loss=2.32e-10, count_observations=100, weights_mean=1.04, weights_std=0.0524, weights_min=0.913]INFO:microcalibrate.reweight:Within 10% from targets: 100.00% \n",
      "\n",
      "INFO:microcalibrate.reweight:Epoch  140: Loss = 0.000000, Change = 0.000000 (improving)\n",
      "Reweighting progress:  25%|██▌       | 132/528 [00:00<00:01, 366.24epoch/s, loss=1.42e-10, count_observations=100, weights_mean=1.04, weights_std=0.0524, weights_min=0.913]INFO:microcalibrate.reweight:Within 10% from targets: 100.00% \n",
      "\n",
      "INFO:microcalibrate.reweight:Epoch  150: Loss = 0.000000, Change = 0.000000 (improving)\n",
      "Reweighting progress:  25%|██▌       | 132/528 [00:00<00:01, 366.24epoch/s, loss=2.45e-10, count_observations=100, weights_mean=1.04, weights_std=0.0524, weights_min=0.913]INFO:microcalibrate.reweight:Within 10% from targets: 100.00% \n",
      "\n",
      "INFO:microcalibrate.reweight:Epoch  160: Loss = 0.000000, Change = -0.000000 (worsening)\n",
      "Reweighting progress:  25%|██▌       | 132/528 [00:00<00:01, 366.24epoch/s, loss=1.12e-10, count_observations=100, weights_mean=1.04, weights_std=0.0524, weights_min=0.913]INFO:microcalibrate.reweight:Within 10% from targets: 100.00% \n",
      "\n",
      "INFO:microcalibrate.reweight:Epoch  170: Loss = 0.000000, Change = 0.000000 (improving)\n",
      "Reweighting progress:  33%|███▎      | 173/528 [00:00<00:00, 379.88epoch/s, loss=2.65e-11, count_observations=100, weights_mean=1.04, weights_std=0.0524, weights_min=0.913]INFO:microcalibrate.reweight:Within 10% from targets: 100.00% \n",
      "\n",
      "INFO:microcalibrate.reweight:Epoch  180: Loss = 0.000000, Change = 0.000000 (improving)\n",
      "Reweighting progress:  33%|███▎      | 173/528 [00:00<00:00, 379.88epoch/s, loss=6.53e-12, count_observations=100, weights_mean=1.04, weights_std=0.0524, weights_min=0.913]INFO:microcalibrate.reweight:Within 10% from targets: 100.00% \n",
      "\n",
      "INFO:microcalibrate.reweight:Epoch  190: Loss = 0.000000, Change = 0.000000 (improving)\n",
      "Reweighting progress:  33%|███▎      | 173/528 [00:00<00:00, 379.88epoch/s, loss=3.99e-12, count_observations=100, weights_mean=1.04, weights_std=0.0524, weights_min=0.913]INFO:microcalibrate.reweight:Within 10% from targets: 100.00% \n",
      "\n",
      "INFO:microcalibrate.reweight:Epoch  200: Loss = 0.000000, Change = 0.000000 (improving)\n",
      "Reweighting progress:  33%|███▎      | 173/528 [00:00<00:00, 379.88epoch/s, loss=2.34e-12, count_observations=100, weights_mean=1.04, weights_std=0.0524, weights_min=0.913]INFO:microcalibrate.reweight:Within 10% from targets: 100.00% \n",
      "\n",
      "INFO:microcalibrate.reweight:Epoch  210: Loss = 0.000000, Change = 0.000000 (improving)\n",
      "Reweighting progress:  41%|████      | 217/528 [00:00<00:00, 397.56epoch/s, loss=1.2e-12, count_observations=100, weights_mean=1.04, weights_std=0.0524, weights_min=0.913] INFO:microcalibrate.reweight:Within 10% from targets: 100.00% \n",
      "\n",
      "INFO:microcalibrate.reweight:Epoch  220: Loss = 0.000000, Change = 0.000000 (improving)\n",
      "Reweighting progress:  41%|████      | 217/528 [00:00<00:00, 397.56epoch/s, loss=3.8e-13, count_observations=100, weights_mean=1.04, weights_std=0.0524, weights_min=0.913]INFO:microcalibrate.reweight:Within 10% from targets: 100.00% \n",
      "\n",
      "INFO:microcalibrate.reweight:Epoch  230: Loss = 0.000000, Change = 0.000000 (improving)\n",
      "Reweighting progress:  41%|████      | 217/528 [00:00<00:00, 397.56epoch/s, loss=4.79e-14, count_observations=100, weights_mean=1.04, weights_std=0.0524, weights_min=0.913]INFO:microcalibrate.reweight:Within 10% from targets: 100.00% \n",
      "\n",
      "INFO:microcalibrate.reweight:Epoch  240: Loss = 0.000000, Change = 0.000000 (improving)\n",
      "Reweighting progress:  41%|████      | 217/528 [00:00<00:00, 397.56epoch/s, loss=6.41e-14, count_observations=100, weights_mean=1.04, weights_std=0.0524, weights_min=0.913]INFO:microcalibrate.reweight:Within 10% from targets: 100.00% \n",
      "\n",
      "INFO:microcalibrate.reweight:Epoch  250: Loss = 0.000000, Change = -0.000000 (worsening)\n",
      "Reweighting progress:  49%|████▉     | 260/528 [00:00<00:00, 407.75epoch/s, loss=3.86e-14, count_observations=100, weights_mean=1.04, weights_std=0.0524, weights_min=0.913]INFO:microcalibrate.reweight:Within 10% from targets: 100.00% \n",
      "\n",
      "INFO:microcalibrate.reweight:Epoch  260: Loss = 0.000000, Change = 0.000000 (improving)\n",
      "Reweighting progress:  49%|████▉     | 260/528 [00:00<00:00, 407.75epoch/s, loss=7.13e-15, count_observations=100, weights_mean=1.04, weights_std=0.0524, weights_min=0.913]INFO:microcalibrate.reweight:Within 10% from targets: 100.00% \n",
      "\n",
      "INFO:microcalibrate.reweight:Epoch  270: Loss = 0.000000, Change = 0.000000 (improving)\n",
      "Reweighting progress:  49%|████▉     | 260/528 [00:00<00:00, 407.75epoch/s, loss=5.1e-15, count_observations=100, weights_mean=1.04, weights_std=0.0524, weights_min=0.913] INFO:microcalibrate.reweight:Within 10% from targets: 100.00% \n",
      "\n",
      "INFO:microcalibrate.reweight:Epoch  280: Loss = 0.000000, Change = 0.000000 (improving)\n",
      "Reweighting progress:  49%|████▉     | 260/528 [00:00<00:00, 407.75epoch/s, loss=5.1e-15, count_observations=100, weights_mean=1.04, weights_std=0.0524, weights_min=0.913]INFO:microcalibrate.reweight:Within 10% from targets: 100.00% \n",
      "\n",
      "INFO:microcalibrate.reweight:Epoch  290: Loss = 0.000000, Change = 0.000000 (worsening)\n",
      "Reweighting progress:  49%|████▉     | 260/528 [00:00<00:00, 407.75epoch/s, loss=0, count_observations=100, weights_mean=1.04, weights_std=0.0524, weights_min=0.913]      INFO:microcalibrate.reweight:Within 10% from targets: 100.00% \n",
      "\n",
      "INFO:microcalibrate.reweight:Epoch  300: Loss = 0.000000, Change = 0.000000 (improving)\n",
      "Reweighting progress:  57%|█████▋    | 301/528 [00:00<00:00, 404.33epoch/s, loss=0, count_observations=100, weights_mean=1.04, weights_std=0.0524, weights_min=0.913]INFO:microcalibrate.reweight:Within 10% from targets: 100.00% \n",
      "\n",
      "INFO:microcalibrate.reweight:Epoch  310: Loss = 0.000000, Change = 0.000000 (worsening)\n",
      "Reweighting progress:  57%|█████▋    | 301/528 [00:00<00:00, 404.33epoch/s, loss=0, count_observations=100, weights_mean=1.04, weights_std=0.0524, weights_min=0.913]INFO:microcalibrate.reweight:Within 10% from targets: 100.00% \n",
      "\n",
      "INFO:microcalibrate.reweight:Epoch  320: Loss = 0.000000, Change = 0.000000 (worsening)\n",
      "Reweighting progress:  57%|█████▋    | 301/528 [00:00<00:00, 404.33epoch/s, loss=0, count_observations=100, weights_mean=1.04, weights_std=0.0524, weights_min=0.913]INFO:microcalibrate.reweight:Within 10% from targets: 100.00% \n",
      "\n",
      "INFO:microcalibrate.reweight:Epoch  330: Loss = 0.000000, Change = 0.000000 (worsening)\n",
      "Reweighting progress:  57%|█████▋    | 301/528 [00:00<00:00, 404.33epoch/s, loss=0, count_observations=100, weights_mean=1.04, weights_std=0.0524, weights_min=0.913]INFO:microcalibrate.reweight:Within 10% from targets: 100.00% \n",
      "\n",
      "INFO:microcalibrate.reweight:Epoch  340: Loss = 0.000000, Change = 0.000000 (worsening)\n",
      "Reweighting progress:  65%|██████▍   | 343/528 [00:00<00:00, 408.68epoch/s, loss=0, count_observations=100, weights_mean=1.04, weights_std=0.0524, weights_min=0.913]INFO:microcalibrate.reweight:Within 10% from targets: 100.00% \n",
      "\n",
      "INFO:microcalibrate.reweight:Epoch  350: Loss = 0.000000, Change = 0.000000 (worsening)\n",
      "Reweighting progress:  65%|██████▍   | 343/528 [00:00<00:00, 408.68epoch/s, loss=0, count_observations=100, weights_mean=1.04, weights_std=0.0524, weights_min=0.913]INFO:microcalibrate.reweight:Within 10% from targets: 100.00% \n",
      "\n",
      "INFO:microcalibrate.reweight:Epoch  360: Loss = 0.000000, Change = 0.000000 (worsening)\n",
      "Reweighting progress:  65%|██████▍   | 343/528 [00:00<00:00, 408.68epoch/s, loss=0, count_observations=100, weights_mean=1.04, weights_std=0.0524, weights_min=0.913]INFO:microcalibrate.reweight:Within 10% from targets: 100.00% \n",
      "\n",
      "INFO:microcalibrate.reweight:Epoch  370: Loss = 0.000000, Change = 0.000000 (worsening)\n",
      "Reweighting progress:  65%|██████▍   | 343/528 [00:00<00:00, 408.68epoch/s, loss=0, count_observations=100, weights_mean=1.04, weights_std=0.0524, weights_min=0.913]INFO:microcalibrate.reweight:Within 10% from targets: 100.00% \n",
      "\n",
      "INFO:microcalibrate.reweight:Epoch  380: Loss = 0.000000, Change = 0.000000 (worsening)\n",
      "Reweighting progress:  73%|███████▎  | 384/528 [00:01<00:00, 379.51epoch/s, loss=0, count_observations=100, weights_mean=1.04, weights_std=0.0524, weights_min=0.913]INFO:microcalibrate.reweight:Within 10% from targets: 100.00% \n",
      "\n",
      "INFO:microcalibrate.reweight:Epoch  390: Loss = 0.000000, Change = 0.000000 (worsening)\n",
      "Reweighting progress:  73%|███████▎  | 384/528 [00:01<00:00, 379.51epoch/s, loss=0, count_observations=100, weights_mean=1.04, weights_std=0.0524, weights_min=0.913]INFO:microcalibrate.reweight:Within 10% from targets: 100.00% \n",
      "\n",
      "INFO:microcalibrate.reweight:Epoch  400: Loss = 0.000000, Change = 0.000000 (worsening)\n",
      "Reweighting progress:  73%|███████▎  | 384/528 [00:01<00:00, 379.51epoch/s, loss=0, count_observations=100, weights_mean=1.04, weights_std=0.0524, weights_min=0.913]INFO:microcalibrate.reweight:Within 10% from targets: 100.00% \n",
      "\n",
      "INFO:microcalibrate.reweight:Epoch  410: Loss = 0.000000, Change = 0.000000 (worsening)\n",
      "Reweighting progress:  73%|███████▎  | 384/528 [00:01<00:00, 379.51epoch/s, loss=0, count_observations=100, weights_mean=1.04, weights_std=0.0524, weights_min=0.913]INFO:microcalibrate.reweight:Within 10% from targets: 100.00% \n",
      "\n",
      "INFO:microcalibrate.reweight:Epoch  420: Loss = 0.000000, Change = 0.000000 (worsening)\n",
      "Reweighting progress:  80%|████████  | 423/528 [00:01<00:00, 380.09epoch/s, loss=0, count_observations=100, weights_mean=1.04, weights_std=0.0524, weights_min=0.913]INFO:microcalibrate.reweight:Within 10% from targets: 100.00% \n",
      "\n",
      "INFO:microcalibrate.reweight:Epoch  430: Loss = 0.000000, Change = 0.000000 (worsening)\n",
      "Reweighting progress:  80%|████████  | 423/528 [00:01<00:00, 380.09epoch/s, loss=0, count_observations=100, weights_mean=1.04, weights_std=0.0524, weights_min=0.913]INFO:microcalibrate.reweight:Within 10% from targets: 100.00% \n",
      "\n",
      "INFO:microcalibrate.reweight:Epoch  440: Loss = 0.000000, Change = 0.000000 (worsening)\n",
      "Reweighting progress:  80%|████████  | 423/528 [00:01<00:00, 380.09epoch/s, loss=0, count_observations=100, weights_mean=1.04, weights_std=0.0524, weights_min=0.913]INFO:microcalibrate.reweight:Within 10% from targets: 100.00% \n",
      "\n",
      "INFO:microcalibrate.reweight:Epoch  450: Loss = 0.000000, Change = 0.000000 (worsening)\n",
      "Reweighting progress:  80%|████████  | 423/528 [00:01<00:00, 380.09epoch/s, loss=0, count_observations=100, weights_mean=1.04, weights_std=0.0524, weights_min=0.913]INFO:microcalibrate.reweight:Within 10% from targets: 100.00% \n",
      "\n",
      "INFO:microcalibrate.reweight:Epoch  460: Loss = 0.000000, Change = 0.000000 (worsening)\n",
      "Reweighting progress:  88%|████████▊ | 465/528 [00:01<00:00, 391.64epoch/s, loss=0, count_observations=100, weights_mean=1.04, weights_std=0.0524, weights_min=0.913]INFO:microcalibrate.reweight:Within 10% from targets: 100.00% \n",
      "\n",
      "INFO:microcalibrate.reweight:Epoch  470: Loss = 0.000000, Change = 0.000000 (worsening)\n",
      "Reweighting progress:  88%|████████▊ | 465/528 [00:01<00:00, 391.64epoch/s, loss=0, count_observations=100, weights_mean=1.04, weights_std=0.0524, weights_min=0.913]INFO:microcalibrate.reweight:Within 10% from targets: 100.00% \n",
      "\n",
      "INFO:microcalibrate.reweight:Epoch  480: Loss = 0.000000, Change = 0.000000 (worsening)\n",
      "Reweighting progress:  88%|████████▊ | 465/528 [00:01<00:00, 391.64epoch/s, loss=0, count_observations=100, weights_mean=1.04, weights_std=0.0524, weights_min=0.913]INFO:microcalibrate.reweight:Within 10% from targets: 100.00% \n",
      "\n",
      "INFO:microcalibrate.reweight:Epoch  490: Loss = 0.000000, Change = 0.000000 (worsening)\n",
      "Reweighting progress:  88%|████████▊ | 465/528 [00:01<00:00, 391.64epoch/s, loss=0, count_observations=100, weights_mean=1.04, weights_std=0.0524, weights_min=0.913]INFO:microcalibrate.reweight:Within 10% from targets: 100.00% \n",
      "\n",
      "INFO:microcalibrate.reweight:Epoch  500: Loss = 0.000000, Change = 0.000000 (worsening)\n",
      "Reweighting progress:  96%|█████████▌| 508/528 [00:01<00:00, 401.29epoch/s, loss=0, count_observations=100, weights_mean=1.04, weights_std=0.0524, weights_min=0.913]INFO:microcalibrate.reweight:Within 10% from targets: 100.00% \n",
      "\n",
      "INFO:microcalibrate.reweight:Epoch  510: Loss = 0.000000, Change = 0.000000 (worsening)\n",
      "Reweighting progress:  96%|█████████▌| 508/528 [00:01<00:00, 401.29epoch/s, loss=0, count_observations=100, weights_mean=1.04, weights_std=0.0524, weights_min=0.913]INFO:microcalibrate.reweight:Within 10% from targets: 100.00% \n",
      "\n",
      "INFO:microcalibrate.reweight:Epoch  520: Loss = 0.000000, Change = 0.000000 (worsening)\n",
      "Reweighting progress: 100%|██████████| 528/528 [00:01<00:00, 380.92epoch/s, loss=0, count_observations=100, weights_mean=1.04, weights_std=0.0524, weights_min=0.913]\n",
      "INFO:microcalibrate.reweight:Reweighting completed. Final sample size: 100\n"
     ]
    },
    {
     "name": "stdout",
     "output_type": "stream",
     "text": [
      "Original dataset size: 100\n",
      "Calibrated dataset size: 100\n",
      "Number of calibrated weights: 100\n"
     ]
    }
   ],
   "source": [
    "# Initialize the Calibration object\n",
    "calibrator = Calibration(\n",
    "    loss_matrix=targets_matrix,\n",
    "    weights=weights, \n",
    "    targets=targets,\n",
    "    noise_level=0.05,\n",
    "    epochs=528,\n",
    "    learning_rate=0.01,\n",
    "    dropout_rate=0,\n",
    "    subsample_every=0,\n",
    ")\n",
    "\n",
    "# Perform the calibration\n",
    "performance_df = calibrator.calibrate()\n",
    "\n",
    "print(f\"Original dataset size: {len(targets_matrix)}\")\n",
    "print(f\"Calibrated dataset size: {len(calibrator.loss_matrix)}\")\n",
    "print(f\"Number of calibrated weights: {len(calibrator.weights)}\")"
   ]
  },
  {
   "cell_type": "code",
   "execution_count": 3,
   "id": "9djvjpfrhxb",
   "metadata": {},
   "outputs": [
    {
     "name": "stdout",
     "output_type": "stream",
     "text": [
      "Target totals: [ 245346.0788293  1237963.09787856]\n",
      "Final calibrated totals: [ 245345.08394122 1237962.1478856 ]\n",
      "Difference: [-0.99488808 -0.94999296]\n",
      "Relative error: [-4.05503967e-04 -7.67383906e-05]\n"
     ]
    }
   ],
   "source": [
    "# Calculate final weighted totals\n",
    "final_totals = targets_matrix.mul(calibrator.weights, axis=0).sum().values\n",
    "\n",
    "print(f\"Target totals: {targets}\")\n",
    "print(f\"Final calibrated totals: {final_totals}\")\n",
    "print(f\"Difference: {final_totals - targets}\")\n",
    "print(f\"Relative error: {(final_totals - targets) / targets * 100}\")"
   ]
  },
  {
   "cell_type": "code",
   "execution_count": 4,
   "id": "96cc818b",
   "metadata": {},
   "outputs": [],
   "source": [
    "np.testing.assert_allclose(\n",
    "        final_totals,\n",
    "        targets,\n",
    "        rtol=0.01,  # relative tolerance\n",
    "        err_msg=\"Calibrated totals do not match target values\",\n",
    "    )"
   ]
  },
  {
   "cell_type": "code",
   "execution_count": 9,
   "id": "923d79dd",
   "metadata": {},
   "outputs": [
    {
     "data": {
      "text/html": [
       "<div>\n",
       "<style scoped>\n",
       "    .dataframe tbody tr th:only-of-type {\n",
       "        vertical-align: middle;\n",
       "    }\n",
       "\n",
       "    .dataframe tbody tr th {\n",
       "        vertical-align: top;\n",
       "    }\n",
       "\n",
       "    .dataframe thead th {\n",
       "        text-align: right;\n",
       "    }\n",
       "</style>\n",
       "<table border=\"1\" class=\"dataframe\">\n",
       "  <thead>\n",
       "    <tr style=\"text-align: right;\">\n",
       "      <th></th>\n",
       "      <th>epoch</th>\n",
       "      <th>loss</th>\n",
       "      <th>pct_close</th>\n",
       "      <th>income_aged_20_30</th>\n",
       "      <th>income_aged_40_50</th>\n",
       "      <th>estimate_0</th>\n",
       "      <th>estimate_1</th>\n",
       "      <th>error_0</th>\n",
       "      <th>error_1</th>\n",
       "      <th>abs_error_0</th>\n",
       "      <th>abs_error_1</th>\n",
       "      <th>rel_abs_error_0</th>\n",
       "      <th>rel_abs_error_1</th>\n",
       "    </tr>\n",
       "  </thead>\n",
       "  <tbody>\n",
       "    <tr>\n",
       "      <th>0</th>\n",
       "      <td>0</td>\n",
       "      <td>0.013377</td>\n",
       "      <td>0.0</td>\n",
       "      <td>245346.078125</td>\n",
       "      <td>1237963.125</td>\n",
       "      <td>216092.640625</td>\n",
       "      <td>1099335.750</td>\n",
       "      <td>-29253.437500</td>\n",
       "      <td>-138627.375</td>\n",
       "      <td>29253.437500</td>\n",
       "      <td>138627.375</td>\n",
       "      <td>0.119233</td>\n",
       "      <td>0.111980</td>\n",
       "    </tr>\n",
       "    <tr>\n",
       "      <th>1</th>\n",
       "      <td>10</td>\n",
       "      <td>0.000593</td>\n",
       "      <td>1.0</td>\n",
       "      <td>245346.078125</td>\n",
       "      <td>1237963.125</td>\n",
       "      <td>252980.734375</td>\n",
       "      <td>1219681.875</td>\n",
       "      <td>7634.656250</td>\n",
       "      <td>-18281.250</td>\n",
       "      <td>7634.656250</td>\n",
       "      <td>18281.250</td>\n",
       "      <td>0.031118</td>\n",
       "      <td>0.014767</td>\n",
       "    </tr>\n",
       "    <tr>\n",
       "      <th>2</th>\n",
       "      <td>20</td>\n",
       "      <td>0.000549</td>\n",
       "      <td>1.0</td>\n",
       "      <td>245346.078125</td>\n",
       "      <td>1237963.125</td>\n",
       "      <td>248670.750000</td>\n",
       "      <td>1275382.125</td>\n",
       "      <td>3324.671875</td>\n",
       "      <td>37419.000</td>\n",
       "      <td>3324.671875</td>\n",
       "      <td>37419.000</td>\n",
       "      <td>0.013551</td>\n",
       "      <td>0.030226</td>\n",
       "    </tr>\n",
       "    <tr>\n",
       "      <th>3</th>\n",
       "      <td>30</td>\n",
       "      <td>0.000191</td>\n",
       "      <td>1.0</td>\n",
       "      <td>245346.078125</td>\n",
       "      <td>1237963.125</td>\n",
       "      <td>240703.625000</td>\n",
       "      <td>1243917.750</td>\n",
       "      <td>-4642.453125</td>\n",
       "      <td>5954.625</td>\n",
       "      <td>4642.453125</td>\n",
       "      <td>5954.625</td>\n",
       "      <td>0.018922</td>\n",
       "      <td>0.004810</td>\n",
       "    </tr>\n",
       "    <tr>\n",
       "      <th>4</th>\n",
       "      <td>40</td>\n",
       "      <td>0.000092</td>\n",
       "      <td>1.0</td>\n",
       "      <td>245346.078125</td>\n",
       "      <td>1237963.125</td>\n",
       "      <td>247172.640625</td>\n",
       "      <td>1223899.500</td>\n",
       "      <td>1826.562500</td>\n",
       "      <td>-14063.625</td>\n",
       "      <td>1826.562500</td>\n",
       "      <td>14063.625</td>\n",
       "      <td>0.007445</td>\n",
       "      <td>0.011360</td>\n",
       "    </tr>\n",
       "  </tbody>\n",
       "</table>\n",
       "</div>"
      ],
      "text/plain": [
       "   epoch      loss  pct_close  income_aged_20_30  income_aged_40_50  \\\n",
       "0      0  0.013377        0.0      245346.078125        1237963.125   \n",
       "1     10  0.000593        1.0      245346.078125        1237963.125   \n",
       "2     20  0.000549        1.0      245346.078125        1237963.125   \n",
       "3     30  0.000191        1.0      245346.078125        1237963.125   \n",
       "4     40  0.000092        1.0      245346.078125        1237963.125   \n",
       "\n",
       "      estimate_0   estimate_1       error_0     error_1   abs_error_0  \\\n",
       "0  216092.640625  1099335.750 -29253.437500 -138627.375  29253.437500   \n",
       "1  252980.734375  1219681.875   7634.656250  -18281.250   7634.656250   \n",
       "2  248670.750000  1275382.125   3324.671875   37419.000   3324.671875   \n",
       "3  240703.625000  1243917.750  -4642.453125    5954.625   4642.453125   \n",
       "4  247172.640625  1223899.500   1826.562500  -14063.625   1826.562500   \n",
       "\n",
       "   abs_error_1  rel_abs_error_0  rel_abs_error_1  \n",
       "0   138627.375         0.119233         0.111980  \n",
       "1    18281.250         0.031118         0.014767  \n",
       "2    37419.000         0.013551         0.030226  \n",
       "3     5954.625         0.018922         0.004810  \n",
       "4    14063.625         0.007445         0.011360  "
      ]
     },
     "execution_count": 9,
     "metadata": {},
     "output_type": "execute_result"
    }
   ],
   "source": [
    "performance_df.head()"
   ]
  },
  {
   "cell_type": "code",
   "execution_count": 17,
   "id": "da828d30",
   "metadata": {},
   "outputs": [
    {
     "data": {
      "application/vnd.plotly.v1+json": {
       "config": {
        "plotlyServerURL": "https://plot.ly"
       },
       "data": [
        {
         "line": {
          "color": "red",
          "dash": "dot"
         },
         "mode": "lines",
         "name": "Target 20-30",
         "type": "scatter",
         "x": [
          0,
          10,
          20,
          30,
          40,
          50,
          60,
          70,
          80,
          90,
          100,
          110,
          120,
          130,
          140,
          150,
          160,
          170,
          180,
          190,
          200,
          210,
          220,
          230,
          240,
          250,
          260,
          270,
          280,
          290,
          300,
          310,
          320,
          330,
          340,
          350,
          360,
          370,
          380,
          390,
          400,
          410,
          420,
          430,
          440,
          450,
          460,
          470,
          480,
          490,
          500,
          510,
          520
         ],
         "xaxis": "x",
         "y": [
          245346.078125,
          245346.078125,
          245346.078125,
          245346.078125,
          245346.078125,
          245346.078125,
          245346.078125,
          245346.078125,
          245346.078125,
          245346.078125,
          245346.078125,
          245346.078125,
          245346.078125,
          245346.078125,
          245346.078125,
          245346.078125,
          245346.078125,
          245346.078125,
          245346.078125,
          245346.078125,
          245346.078125,
          245346.078125,
          245346.078125,
          245346.078125,
          245346.078125,
          245346.078125,
          245346.078125,
          245346.078125,
          245346.078125,
          245346.078125,
          245346.078125,
          245346.078125,
          245346.078125,
          245346.078125,
          245346.078125,
          245346.078125,
          245346.078125,
          245346.078125,
          245346.078125,
          245346.078125,
          245346.078125,
          245346.078125,
          245346.078125,
          245346.078125,
          245346.078125,
          245346.078125,
          245346.078125,
          245346.078125,
          245346.078125,
          245346.078125,
          245346.078125,
          245346.078125,
          245346.078125
         ],
         "yaxis": "y"
        },
        {
         "line": {
          "color": "blue"
         },
         "mode": "lines",
         "name": "Estimate 20-30",
         "type": "scatter",
         "x": [
          0,
          10,
          20,
          30,
          40,
          50,
          60,
          70,
          80,
          90,
          100,
          110,
          120,
          130,
          140,
          150,
          160,
          170,
          180,
          190,
          200,
          210,
          220,
          230,
          240,
          250,
          260,
          270,
          280,
          290,
          300,
          310,
          320,
          330,
          340,
          350,
          360,
          370,
          380,
          390,
          400,
          410,
          420,
          430,
          440,
          450,
          460,
          470,
          480,
          490,
          500,
          510,
          520
         ],
         "xaxis": "x",
         "y": [
          216092.640625,
          252980.734375,
          248670.75,
          240703.625,
          247172.640625,
          245516.4375,
          244607.234375,
          245955,
          244989.1875,
          245515.609375,
          245274.96875,
          245369.59375,
          245338.1875,
          245346.375,
          245344.875,
          245345.46875,
          245344.3125,
          245346.03125,
          245344.125,
          245345.921875,
          245344.421875,
          245345.5,
          245344.8125,
          245345.203125,
          245345.0625,
          245345.03125,
          245345.125,
          245345.0625,
          245345.078125,
          245345.078125,
          245345.078125,
          245345.078125,
          245345.078125,
          245345.078125,
          245345.078125,
          245345.078125,
          245345.078125,
          245345.078125,
          245345.078125,
          245345.078125,
          245345.078125,
          245345.078125,
          245345.078125,
          245345.078125,
          245345.078125,
          245345.078125,
          245345.078125,
          245345.078125,
          245345.078125,
          245345.078125,
          245345.078125,
          245345.078125,
          245345.078125
         ],
         "yaxis": "y"
        },
        {
         "line": {
          "color": "red",
          "dash": "dot"
         },
         "mode": "lines",
         "name": "Target 40-50",
         "type": "scatter",
         "x": [
          0,
          10,
          20,
          30,
          40,
          50,
          60,
          70,
          80,
          90,
          100,
          110,
          120,
          130,
          140,
          150,
          160,
          170,
          180,
          190,
          200,
          210,
          220,
          230,
          240,
          250,
          260,
          270,
          280,
          290,
          300,
          310,
          320,
          330,
          340,
          350,
          360,
          370,
          380,
          390,
          400,
          410,
          420,
          430,
          440,
          450,
          460,
          470,
          480,
          490,
          500,
          510,
          520
         ],
         "xaxis": "x2",
         "y": [
          1237963.125,
          1237963.125,
          1237963.125,
          1237963.125,
          1237963.125,
          1237963.125,
          1237963.125,
          1237963.125,
          1237963.125,
          1237963.125,
          1237963.125,
          1237963.125,
          1237963.125,
          1237963.125,
          1237963.125,
          1237963.125,
          1237963.125,
          1237963.125,
          1237963.125,
          1237963.125,
          1237963.125,
          1237963.125,
          1237963.125,
          1237963.125,
          1237963.125,
          1237963.125,
          1237963.125,
          1237963.125,
          1237963.125,
          1237963.125,
          1237963.125,
          1237963.125,
          1237963.125,
          1237963.125,
          1237963.125,
          1237963.125,
          1237963.125,
          1237963.125,
          1237963.125,
          1237963.125,
          1237963.125,
          1237963.125,
          1237963.125,
          1237963.125,
          1237963.125,
          1237963.125,
          1237963.125,
          1237963.125,
          1237963.125,
          1237963.125,
          1237963.125,
          1237963.125,
          1237963.125
         ],
         "yaxis": "y2"
        },
        {
         "line": {
          "color": "green"
         },
         "mode": "lines",
         "name": "Estimate 40-50",
         "type": "scatter",
         "x": [
          0,
          10,
          20,
          30,
          40,
          50,
          60,
          70,
          80,
          90,
          100,
          110,
          120,
          130,
          140,
          150,
          160,
          170,
          180,
          190,
          200,
          210,
          220,
          230,
          240,
          250,
          260,
          270,
          280,
          290,
          300,
          310,
          320,
          330,
          340,
          350,
          360,
          370,
          380,
          390,
          400,
          410,
          420,
          430,
          440,
          450,
          460,
          470,
          480,
          490,
          500,
          510,
          520
         ],
         "xaxis": "x2",
         "y": [
          1099335.75,
          1219681.875,
          1275382.125,
          1243917.75,
          1223899.5,
          1238063.25,
          1242936.25,
          1236032,
          1237109.125,
          1239087.875,
          1237576,
          1237831.5,
          1238187.5,
          1237834.5,
          1237988.75,
          1237982.875,
          1237935,
          1237980,
          1237954.5,
          1237963.5,
          1237963.25,
          1237960.5,
          1237963.5,
          1237961.25,
          1237962.5,
          1237961.75,
          1237962.375,
          1237962,
          1237962.25,
          1237962.25,
          1237962.125,
          1237962.125,
          1237962.125,
          1237962.125,
          1237962.125,
          1237962.125,
          1237962.125,
          1237962.125,
          1237962.125,
          1237962.125,
          1237962.125,
          1237962.125,
          1237962.125,
          1237962.125,
          1237962.125,
          1237962.125,
          1237962.125,
          1237962.125,
          1237962.125,
          1237962.125,
          1237962.125,
          1237962.125,
          1237962.125
         ],
         "yaxis": "y2"
        },
        {
         "line": {
          "color": "blue"
         },
         "mode": "lines",
         "showlegend": false,
         "type": "scatter",
         "x": [
          0,
          10,
          20,
          30,
          40,
          50,
          60,
          70,
          80,
          90,
          100,
          110,
          120,
          130,
          140,
          150,
          160,
          170,
          180,
          190,
          200,
          210,
          220,
          230,
          240,
          250,
          260,
          270,
          280,
          290,
          300,
          310,
          320,
          330,
          340,
          350,
          360,
          370,
          380,
          390,
          400,
          410,
          420,
          430,
          440,
          450,
          460,
          470,
          480,
          490,
          500,
          510,
          520
         ],
         "xaxis": "x3",
         "y": [
          0.11923336237668991,
          0.031117906793951988,
          0.013550947420299053,
          0.01892205886542797,
          0.007444840855896473,
          0.0006943635526113212,
          0.0030114350374788046,
          0.0024818896781653166,
          0.0014546416932716966,
          0.0006909882067702711,
          0.00028983294032514095,
          0.00009584674990037456,
          0.00003216120239812881,
          0.0000012100254025426693,
          0.000004903787157672923,
          0.0000024837363525875844,
          0.000007196467322501121,
          1.9105665671759198e-7,
          0.00000796069343778072,
          6.368554750224575e-7,
          0.000006750668489985401,
          0.000002356365257583093,
          0.000005158529347681906,
          0.0000035663908874994377,
          0.000004139560587645974,
          0.0000042669316826504655,
          0.000003884818397636991,
          0.000004139560587645974,
          0.000004075875040143728,
          0.000004075875040143728,
          0.000004075875040143728,
          0.000004075875040143728,
          0.000004075875040143728,
          0.000004075875040143728,
          0.000004075875040143728,
          0.000004075875040143728,
          0.000004075875040143728,
          0.000004075875040143728,
          0.000004075875040143728,
          0.000004075875040143728,
          0.000004075875040143728,
          0.000004075875040143728,
          0.000004075875040143728,
          0.000004075875040143728,
          0.000004075875040143728,
          0.000004075875040143728,
          0.000004075875040143728,
          0.000004075875040143728,
          0.000004075875040143728,
          0.000004075875040143728,
          0.000004075875040143728,
          0.000004075875040143728,
          0.000004075875040143728
         ],
         "yaxis": "y3"
        },
        {
         "line": {
          "color": "green"
         },
         "mode": "lines",
         "showlegend": false,
         "type": "scatter",
         "x": [
          0,
          10,
          20,
          30,
          40,
          50,
          60,
          70,
          80,
          90,
          100,
          110,
          120,
          130,
          140,
          150,
          160,
          170,
          180,
          190,
          200,
          210,
          220,
          230,
          240,
          250,
          260,
          270,
          280,
          290,
          300,
          310,
          320,
          330,
          340,
          350,
          360,
          370,
          380,
          390,
          400,
          410,
          420,
          430,
          440,
          450,
          460,
          470,
          480,
          490,
          500,
          510,
          520
         ],
         "xaxis": "x4",
         "y": [
          0.11198021471500397,
          0.01476720068603754,
          0.030226264148950577,
          0.004810017999261618,
          0.011360294185578823,
          0.00008087882451945916,
          0.004017183557152748,
          0.001559921307489276,
          0.0006898428546264768,
          0.0009085488854907453,
          0.0003127112577203661,
          0.00010632384510245174,
          0.00018124529742635787,
          0.0001039005073835142,
          0.000020699324522865936,
          0.000015953624824760482,
          0.000022718770196661353,
          0.000013631261936097872,
          0.000006967089575482532,
          3.0291693065009895e-7,
          1.0097231495365122e-7,
          0.0000021204184577072738,
          3.0291693065009895e-7,
          0.0000015145847100939136,
          5.048615889791108e-7,
          0.0000011106953934358899,
          6.058338613001979e-7,
          9.087507919502968e-7,
          7.068061904647038e-7,
          7.068061904647038e-7,
          8.077785196292098e-7,
          8.077785196292098e-7,
          8.077785196292098e-7,
          8.077785196292098e-7,
          8.077785196292098e-7,
          8.077785196292098e-7,
          8.077785196292098e-7,
          8.077785196292098e-7,
          8.077785196292098e-7,
          8.077785196292098e-7,
          8.077785196292098e-7,
          8.077785196292098e-7,
          8.077785196292098e-7,
          8.077785196292098e-7,
          8.077785196292098e-7,
          8.077785196292098e-7,
          8.077785196292098e-7,
          8.077785196292098e-7,
          8.077785196292098e-7,
          8.077785196292098e-7,
          8.077785196292098e-7,
          8.077785196292098e-7,
          8.077785196292098e-7
         ],
         "yaxis": "y4"
        }
       ],
       "layout": {
        "annotations": [
         {
          "font": {
           "size": 16
          },
          "showarrow": false,
          "text": "Estimate vs target: income_aged_20_30",
          "x": 0.225,
          "xanchor": "center",
          "xref": "paper",
          "y": 1,
          "yanchor": "bottom",
          "yref": "paper"
         },
         {
          "font": {
           "size": 16
          },
          "showarrow": false,
          "text": "Estimate vs target: income_aged_40_50",
          "x": 0.775,
          "xanchor": "center",
          "xref": "paper",
          "y": 1,
          "yanchor": "bottom",
          "yref": "paper"
         },
         {
          "font": {
           "size": 16
          },
          "showarrow": false,
          "text": "Relative absolute error: income_aged_20_30",
          "x": 0.225,
          "xanchor": "center",
          "xref": "paper",
          "y": 0.44,
          "yanchor": "bottom",
          "yref": "paper"
         },
         {
          "font": {
           "size": 16
          },
          "showarrow": false,
          "text": "Relative absolute error: income_aged_40_50",
          "x": 0.775,
          "xanchor": "center",
          "xref": "paper",
          "y": 0.44,
          "yanchor": "bottom",
          "yref": "paper"
         }
        ],
        "height": 800,
        "legend": {
         "x": 1.05,
         "xanchor": "left",
         "y": 1,
         "yanchor": "top"
        },
        "margin": {
         "r": 200
        },
        "template": {
         "data": {
          "bar": [
           {
            "error_x": {
             "color": "#2a3f5f"
            },
            "error_y": {
             "color": "#2a3f5f"
            },
            "marker": {
             "line": {
              "color": "#E5ECF6",
              "width": 0.5
             },
             "pattern": {
              "fillmode": "overlay",
              "size": 10,
              "solidity": 0.2
             }
            },
            "type": "bar"
           }
          ],
          "barpolar": [
           {
            "marker": {
             "line": {
              "color": "#E5ECF6",
              "width": 0.5
             },
             "pattern": {
              "fillmode": "overlay",
              "size": 10,
              "solidity": 0.2
             }
            },
            "type": "barpolar"
           }
          ],
          "carpet": [
           {
            "aaxis": {
             "endlinecolor": "#2a3f5f",
             "gridcolor": "white",
             "linecolor": "white",
             "minorgridcolor": "white",
             "startlinecolor": "#2a3f5f"
            },
            "baxis": {
             "endlinecolor": "#2a3f5f",
             "gridcolor": "white",
             "linecolor": "white",
             "minorgridcolor": "white",
             "startlinecolor": "#2a3f5f"
            },
            "type": "carpet"
           }
          ],
          "choropleth": [
           {
            "colorbar": {
             "outlinewidth": 0,
             "ticks": ""
            },
            "type": "choropleth"
           }
          ],
          "contour": [
           {
            "colorbar": {
             "outlinewidth": 0,
             "ticks": ""
            },
            "colorscale": [
             [
              0,
              "#0d0887"
             ],
             [
              0.1111111111111111,
              "#46039f"
             ],
             [
              0.2222222222222222,
              "#7201a8"
             ],
             [
              0.3333333333333333,
              "#9c179e"
             ],
             [
              0.4444444444444444,
              "#bd3786"
             ],
             [
              0.5555555555555556,
              "#d8576b"
             ],
             [
              0.6666666666666666,
              "#ed7953"
             ],
             [
              0.7777777777777778,
              "#fb9f3a"
             ],
             [
              0.8888888888888888,
              "#fdca26"
             ],
             [
              1,
              "#f0f921"
             ]
            ],
            "type": "contour"
           }
          ],
          "contourcarpet": [
           {
            "colorbar": {
             "outlinewidth": 0,
             "ticks": ""
            },
            "type": "contourcarpet"
           }
          ],
          "heatmap": [
           {
            "colorbar": {
             "outlinewidth": 0,
             "ticks": ""
            },
            "colorscale": [
             [
              0,
              "#0d0887"
             ],
             [
              0.1111111111111111,
              "#46039f"
             ],
             [
              0.2222222222222222,
              "#7201a8"
             ],
             [
              0.3333333333333333,
              "#9c179e"
             ],
             [
              0.4444444444444444,
              "#bd3786"
             ],
             [
              0.5555555555555556,
              "#d8576b"
             ],
             [
              0.6666666666666666,
              "#ed7953"
             ],
             [
              0.7777777777777778,
              "#fb9f3a"
             ],
             [
              0.8888888888888888,
              "#fdca26"
             ],
             [
              1,
              "#f0f921"
             ]
            ],
            "type": "heatmap"
           }
          ],
          "heatmapgl": [
           {
            "colorbar": {
             "outlinewidth": 0,
             "ticks": ""
            },
            "colorscale": [
             [
              0,
              "#0d0887"
             ],
             [
              0.1111111111111111,
              "#46039f"
             ],
             [
              0.2222222222222222,
              "#7201a8"
             ],
             [
              0.3333333333333333,
              "#9c179e"
             ],
             [
              0.4444444444444444,
              "#bd3786"
             ],
             [
              0.5555555555555556,
              "#d8576b"
             ],
             [
              0.6666666666666666,
              "#ed7953"
             ],
             [
              0.7777777777777778,
              "#fb9f3a"
             ],
             [
              0.8888888888888888,
              "#fdca26"
             ],
             [
              1,
              "#f0f921"
             ]
            ],
            "type": "heatmapgl"
           }
          ],
          "histogram": [
           {
            "marker": {
             "pattern": {
              "fillmode": "overlay",
              "size": 10,
              "solidity": 0.2
             }
            },
            "type": "histogram"
           }
          ],
          "histogram2d": [
           {
            "colorbar": {
             "outlinewidth": 0,
             "ticks": ""
            },
            "colorscale": [
             [
              0,
              "#0d0887"
             ],
             [
              0.1111111111111111,
              "#46039f"
             ],
             [
              0.2222222222222222,
              "#7201a8"
             ],
             [
              0.3333333333333333,
              "#9c179e"
             ],
             [
              0.4444444444444444,
              "#bd3786"
             ],
             [
              0.5555555555555556,
              "#d8576b"
             ],
             [
              0.6666666666666666,
              "#ed7953"
             ],
             [
              0.7777777777777778,
              "#fb9f3a"
             ],
             [
              0.8888888888888888,
              "#fdca26"
             ],
             [
              1,
              "#f0f921"
             ]
            ],
            "type": "histogram2d"
           }
          ],
          "histogram2dcontour": [
           {
            "colorbar": {
             "outlinewidth": 0,
             "ticks": ""
            },
            "colorscale": [
             [
              0,
              "#0d0887"
             ],
             [
              0.1111111111111111,
              "#46039f"
             ],
             [
              0.2222222222222222,
              "#7201a8"
             ],
             [
              0.3333333333333333,
              "#9c179e"
             ],
             [
              0.4444444444444444,
              "#bd3786"
             ],
             [
              0.5555555555555556,
              "#d8576b"
             ],
             [
              0.6666666666666666,
              "#ed7953"
             ],
             [
              0.7777777777777778,
              "#fb9f3a"
             ],
             [
              0.8888888888888888,
              "#fdca26"
             ],
             [
              1,
              "#f0f921"
             ]
            ],
            "type": "histogram2dcontour"
           }
          ],
          "mesh3d": [
           {
            "colorbar": {
             "outlinewidth": 0,
             "ticks": ""
            },
            "type": "mesh3d"
           }
          ],
          "parcoords": [
           {
            "line": {
             "colorbar": {
              "outlinewidth": 0,
              "ticks": ""
             }
            },
            "type": "parcoords"
           }
          ],
          "pie": [
           {
            "automargin": true,
            "type": "pie"
           }
          ],
          "scatter": [
           {
            "fillpattern": {
             "fillmode": "overlay",
             "size": 10,
             "solidity": 0.2
            },
            "type": "scatter"
           }
          ],
          "scatter3d": [
           {
            "line": {
             "colorbar": {
              "outlinewidth": 0,
              "ticks": ""
             }
            },
            "marker": {
             "colorbar": {
              "outlinewidth": 0,
              "ticks": ""
             }
            },
            "type": "scatter3d"
           }
          ],
          "scattercarpet": [
           {
            "marker": {
             "colorbar": {
              "outlinewidth": 0,
              "ticks": ""
             }
            },
            "type": "scattercarpet"
           }
          ],
          "scattergeo": [
           {
            "marker": {
             "colorbar": {
              "outlinewidth": 0,
              "ticks": ""
             }
            },
            "type": "scattergeo"
           }
          ],
          "scattergl": [
           {
            "marker": {
             "colorbar": {
              "outlinewidth": 0,
              "ticks": ""
             }
            },
            "type": "scattergl"
           }
          ],
          "scattermapbox": [
           {
            "marker": {
             "colorbar": {
              "outlinewidth": 0,
              "ticks": ""
             }
            },
            "type": "scattermapbox"
           }
          ],
          "scatterpolar": [
           {
            "marker": {
             "colorbar": {
              "outlinewidth": 0,
              "ticks": ""
             }
            },
            "type": "scatterpolar"
           }
          ],
          "scatterpolargl": [
           {
            "marker": {
             "colorbar": {
              "outlinewidth": 0,
              "ticks": ""
             }
            },
            "type": "scatterpolargl"
           }
          ],
          "scatterternary": [
           {
            "marker": {
             "colorbar": {
              "outlinewidth": 0,
              "ticks": ""
             }
            },
            "type": "scatterternary"
           }
          ],
          "surface": [
           {
            "colorbar": {
             "outlinewidth": 0,
             "ticks": ""
            },
            "colorscale": [
             [
              0,
              "#0d0887"
             ],
             [
              0.1111111111111111,
              "#46039f"
             ],
             [
              0.2222222222222222,
              "#7201a8"
             ],
             [
              0.3333333333333333,
              "#9c179e"
             ],
             [
              0.4444444444444444,
              "#bd3786"
             ],
             [
              0.5555555555555556,
              "#d8576b"
             ],
             [
              0.6666666666666666,
              "#ed7953"
             ],
             [
              0.7777777777777778,
              "#fb9f3a"
             ],
             [
              0.8888888888888888,
              "#fdca26"
             ],
             [
              1,
              "#f0f921"
             ]
            ],
            "type": "surface"
           }
          ],
          "table": [
           {
            "cells": {
             "fill": {
              "color": "#EBF0F8"
             },
             "line": {
              "color": "white"
             }
            },
            "header": {
             "fill": {
              "color": "#C8D4E3"
             },
             "line": {
              "color": "white"
             }
            },
            "type": "table"
           }
          ]
         },
         "layout": {
          "annotationdefaults": {
           "arrowcolor": "#2a3f5f",
           "arrowhead": 0,
           "arrowwidth": 1
          },
          "autotypenumbers": "strict",
          "coloraxis": {
           "colorbar": {
            "outlinewidth": 0,
            "ticks": ""
           }
          },
          "colorscale": {
           "diverging": [
            [
             0,
             "#8e0152"
            ],
            [
             0.1,
             "#c51b7d"
            ],
            [
             0.2,
             "#de77ae"
            ],
            [
             0.3,
             "#f1b6da"
            ],
            [
             0.4,
             "#fde0ef"
            ],
            [
             0.5,
             "#f7f7f7"
            ],
            [
             0.6,
             "#e6f5d0"
            ],
            [
             0.7,
             "#b8e186"
            ],
            [
             0.8,
             "#7fbc41"
            ],
            [
             0.9,
             "#4d9221"
            ],
            [
             1,
             "#276419"
            ]
           ],
           "sequential": [
            [
             0,
             "#0d0887"
            ],
            [
             0.1111111111111111,
             "#46039f"
            ],
            [
             0.2222222222222222,
             "#7201a8"
            ],
            [
             0.3333333333333333,
             "#9c179e"
            ],
            [
             0.4444444444444444,
             "#bd3786"
            ],
            [
             0.5555555555555556,
             "#d8576b"
            ],
            [
             0.6666666666666666,
             "#ed7953"
            ],
            [
             0.7777777777777778,
             "#fb9f3a"
            ],
            [
             0.8888888888888888,
             "#fdca26"
            ],
            [
             1,
             "#f0f921"
            ]
           ],
           "sequentialminus": [
            [
             0,
             "#0d0887"
            ],
            [
             0.1111111111111111,
             "#46039f"
            ],
            [
             0.2222222222222222,
             "#7201a8"
            ],
            [
             0.3333333333333333,
             "#9c179e"
            ],
            [
             0.4444444444444444,
             "#bd3786"
            ],
            [
             0.5555555555555556,
             "#d8576b"
            ],
            [
             0.6666666666666666,
             "#ed7953"
            ],
            [
             0.7777777777777778,
             "#fb9f3a"
            ],
            [
             0.8888888888888888,
             "#fdca26"
            ],
            [
             1,
             "#f0f921"
            ]
           ]
          },
          "colorway": [
           "#636efa",
           "#EF553B",
           "#00cc96",
           "#ab63fa",
           "#FFA15A",
           "#19d3f3",
           "#FF6692",
           "#B6E880",
           "#FF97FF",
           "#FECB52"
          ],
          "font": {
           "color": "#2a3f5f"
          },
          "geo": {
           "bgcolor": "white",
           "lakecolor": "white",
           "landcolor": "#E5ECF6",
           "showlakes": true,
           "showland": true,
           "subunitcolor": "white"
          },
          "hoverlabel": {
           "align": "left"
          },
          "hovermode": "closest",
          "mapbox": {
           "style": "light"
          },
          "paper_bgcolor": "white",
          "plot_bgcolor": "#E5ECF6",
          "polar": {
           "angularaxis": {
            "gridcolor": "white",
            "linecolor": "white",
            "ticks": ""
           },
           "bgcolor": "#E5ECF6",
           "radialaxis": {
            "gridcolor": "white",
            "linecolor": "white",
            "ticks": ""
           }
          },
          "scene": {
           "xaxis": {
            "backgroundcolor": "#E5ECF6",
            "gridcolor": "white",
            "gridwidth": 2,
            "linecolor": "white",
            "showbackground": true,
            "ticks": "",
            "zerolinecolor": "white"
           },
           "yaxis": {
            "backgroundcolor": "#E5ECF6",
            "gridcolor": "white",
            "gridwidth": 2,
            "linecolor": "white",
            "showbackground": true,
            "ticks": "",
            "zerolinecolor": "white"
           },
           "zaxis": {
            "backgroundcolor": "#E5ECF6",
            "gridcolor": "white",
            "gridwidth": 2,
            "linecolor": "white",
            "showbackground": true,
            "ticks": "",
            "zerolinecolor": "white"
           }
          },
          "shapedefaults": {
           "line": {
            "color": "#2a3f5f"
           }
          },
          "ternary": {
           "aaxis": {
            "gridcolor": "white",
            "linecolor": "white",
            "ticks": ""
           },
           "baxis": {
            "gridcolor": "white",
            "linecolor": "white",
            "ticks": ""
           },
           "bgcolor": "#E5ECF6",
           "caxis": {
            "gridcolor": "white",
            "linecolor": "white",
            "ticks": ""
           }
          },
          "title": {
           "x": 0.05
          },
          "xaxis": {
           "automargin": true,
           "gridcolor": "white",
           "linecolor": "white",
           "ticks": "",
           "title": {
            "standoff": 15
           },
           "zerolinecolor": "white",
           "zerolinewidth": 2
          },
          "yaxis": {
           "automargin": true,
           "gridcolor": "white",
           "linecolor": "white",
           "ticks": "",
           "title": {
            "standoff": 15
           },
           "zerolinecolor": "white",
           "zerolinewidth": 2
          }
         }
        },
        "title": {
         "text": "Calibration performance over epochs"
        },
        "width": 1050,
        "xaxis": {
         "anchor": "y",
         "domain": [
          0,
          0.45
         ],
         "matches": "x3",
         "showticklabels": false
        },
        "xaxis2": {
         "anchor": "y2",
         "domain": [
          0.55,
          1
         ],
         "matches": "x4",
         "showticklabels": false
        },
        "xaxis3": {
         "anchor": "y3",
         "domain": [
          0,
          0.45
         ],
         "title": {
          "text": "Epoch"
         }
        },
        "xaxis4": {
         "anchor": "y4",
         "domain": [
          0.55,
          1
         ],
         "title": {
          "text": "Epoch"
         }
        },
        "yaxis": {
         "anchor": "x",
         "domain": [
          0.56,
          1
         ],
         "title": {
          "text": "Income ($)"
         }
        },
        "yaxis2": {
         "anchor": "x2",
         "domain": [
          0.56,
          1
         ],
         "title": {
          "text": "Income ($)"
         }
        },
        "yaxis3": {
         "anchor": "x3",
         "domain": [
          0,
          0.44
         ],
         "title": {
          "text": "Relative absolute error"
         }
        },
        "yaxis4": {
         "anchor": "x4",
         "domain": [
          0,
          0.44
         ],
         "title": {
          "text": "Relative absolute error"
         }
        }
       }
      }
     },
     "metadata": {},
     "output_type": "display_data"
    }
   ],
   "source": [
    "fig = make_subplots(\n",
    "    rows=2, cols=2,\n",
    "    subplot_titles=[\n",
    "        \"Estimate vs target: income_aged_20_30\",\n",
    "        \"Estimate vs target: income_aged_40_50\",\n",
    "        \"Relative absolute error: income_aged_20_30\",\n",
    "        \"Relative absolute error: income_aged_40_50\"\n",
    "    ],\n",
    "    shared_xaxes=True,\n",
    "    vertical_spacing=0.12,\n",
    "    horizontal_spacing=0.1\n",
    ")\n",
    "\n",
    "# Plot: Estimate vs Target for income_aged_20_30\n",
    "fig.add_trace(go.Scatter(\n",
    "    x=performance_df[\"epoch\"],\n",
    "    y=performance_df[\"income_aged_20_30\"],\n",
    "    mode=\"lines\",\n",
    "    name=\"Target 20-30\",\n",
    "    line=dict(dash=\"dot\", color=\"red\")\n",
    "), row=1, col=1)\n",
    "\n",
    "fig.add_trace(go.Scatter(\n",
    "    x=performance_df[\"epoch\"],\n",
    "    y=performance_df[\"estimate_0\"],\n",
    "    mode=\"lines\",\n",
    "    name=\"Estimate 20-30\",\n",
    "    line=dict(color=\"blue\")\n",
    "), row=1, col=1)\n",
    "\n",
    "# Plot: Estimate vs Target for income_aged_40_50\n",
    "fig.add_trace(go.Scatter(\n",
    "    x=performance_df[\"epoch\"],\n",
    "    y=performance_df[\"income_aged_40_50\"],\n",
    "    mode=\"lines\",\n",
    "    name=\"Target 40-50\",\n",
    "    line=dict(dash=\"dot\", color=\"red\")\n",
    "), row=1, col=2)\n",
    "\n",
    "fig.add_trace(go.Scatter(\n",
    "    x=performance_df[\"epoch\"],\n",
    "    y=performance_df[\"estimate_1\"],\n",
    "    mode=\"lines\",\n",
    "    name=\"Estimate 40-50\",\n",
    "    line=dict(color=\"green\")\n",
    "), row=1, col=2)\n",
    "\n",
    "# Plot: Relative Absolute Error for income_aged_20_30\n",
    "fig.add_trace(go.Scatter(\n",
    "    x=performance_df[\"epoch\"],\n",
    "    y=performance_df[\"rel_abs_error_0\"],\n",
    "    mode=\"lines\",\n",
    "    line=dict(color=\"blue\"),\n",
    "    showlegend=False, \n",
    "), row=2, col=1)\n",
    "\n",
    "# Plot: Relative Absolute Error for income_aged_40_50\n",
    "fig.add_trace(go.Scatter(\n",
    "    x=performance_df[\"epoch\"],\n",
    "    y=performance_df[\"rel_abs_error_1\"],\n",
    "    mode=\"lines\",\n",
    "    line=dict(color=\"green\"),\n",
    "    showlegend=False,\n",
    "), row=2, col=2)\n",
    "\n",
    "# Final layout\n",
    "fig.update_layout(\n",
    "    height=800,\n",
    "    width=1050,\n",
    "    title_text=\"Calibration performance over epochs\",\n",
    "    legend=dict(\n",
    "        x=1.05,\n",
    "        y=1,\n",
    "        xanchor=\"left\",\n",
    "        yanchor=\"top\"\n",
    "    ),\n",
    "    margin=dict(r=200)\n",
    ")\n",
    "\n",
    "# Axis labels\n",
    "fig.update_xaxes(title_text=\"Epoch\", row=2, col=1)\n",
    "fig.update_xaxes(title_text=\"Epoch\", row=2, col=2)\n",
    "fig.update_yaxes(title_text=\"Income ($)\", row=1, col=1)\n",
    "fig.update_yaxes(title_text=\"Income ($)\", row=1, col=2)\n",
    "fig.update_yaxes(title_text=\"Relative absolute error\", row=2, col=1)\n",
    "fig.update_yaxes(title_text=\"Relative absolute error\", row=2, col=2)\n",
    "\n",
    "fig.show()"
   ]
  }
 ],
 "metadata": {
  "kernelspec": {
   "display_name": "pe",
   "language": "python",
   "name": "python3"
  },
  "language_info": {
   "codemirror_mode": {
    "name": "ipython",
    "version": 3
   },
   "file_extension": ".py",
   "mimetype": "text/x-python",
   "name": "python",
   "nbconvert_exporter": "python",
   "pygments_lexer": "ipython3",
   "version": "3.11.11"
  }
 },
 "nbformat": 4,
 "nbformat_minor": 5
}
