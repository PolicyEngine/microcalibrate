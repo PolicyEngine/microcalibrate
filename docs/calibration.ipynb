{
 "cells": [
  {
   "cell_type": "markdown",
   "id": "b375e2dd",
   "metadata": {},
   "source": [
    "## Calibration\n",
    "\n",
    "The `Calibration` class provides a way to adjust weights of observations in a dataset to match specified target values. This is commonly used in survey research and policy modeling for rebalancing datasets to better represent desired population characteristics. \n",
    "\n",
    "The calibration process uses an optimization algorithm to find weights that minimize the distance from the original weights while achieving the target constraints.\n",
    "\n",
    "## Basic usage\n",
    "\n",
    "### Parameters\n",
    "\n",
    "`__init__(data, weights, targets)`\n",
    "\n",
    "- `data` (pd.DataFrame): The dataset to be calibrated. This should contain all the variables you want to use for calibration.\n",
    "- `weights` (np.ndarray): Initial weights for each observation in the dataset. Typically starts as an array of ones for equal weighting.\n",
    "- `targets` (np.ndarray): Target values that the calibration process should achieve. These correspond to the desired weighted sums.\n",
    "\n",
    "Calibration can be easily done by initializing the `Calibration` class, passing in the parameters above. Then `calibrate()` method performs the actual calibration using the reweight function. This method:\n",
    "- Adjusts the weights to better match the target values\n",
    "- May subsample the data for efficiency\n",
    "- Updates both `self.weights` and `self.data` with the calibrated results\n",
    "\n",
    "## Example\n",
    "\n",
    "Below is a complete example showing how to calibrate a dataset to match income targets for specific age groups:"
   ]
  },
  {
   "cell_type": "code",
   "execution_count": 4,
   "id": "vxj460xngvg",
   "metadata": {},
   "outputs": [
    {
     "name": "stdout",
     "output_type": "stream",
     "text": [
      "Original weights: [1. 1. 1. 1. 1. 1. 1. 1. 1. 1. 1. 1. 1. 1. 1. 1. 1. 1. 1. 1. 1. 1. 1. 1.\n",
      " 1. 1. 1. 1. 1. 1. 1. 1. 1. 1. 1. 1. 1. 1. 1. 1. 1. 1. 1. 1. 1. 1. 1. 1.\n",
      " 1. 1. 1. 1. 1. 1. 1. 1. 1. 1. 1. 1. 1. 1. 1. 1. 1. 1. 1. 1. 1. 1. 1. 1.\n",
      " 1. 1. 1. 1. 1. 1. 1. 1. 1. 1. 1. 1. 1. 1. 1. 1. 1. 1. 1. 1. 1. 1. 1. 1.\n",
      " 1. 1. 1. 1.]\n",
      "Original targets: [ 245346.0788293  1237963.09787856]\n"
     ]
    }
   ],
   "source": [
    "from microcalibrate.calibration import Calibration\n",
    "import logging\n",
    "import numpy as np\n",
    "import pandas as pd\n",
    "\n",
    "logging.basicConfig(\n",
    "    level=logging.INFO,\n",
    "    format='%(name)s - %(levelname)s - %(message)s'\n",
    ")\n",
    "\n",
    "# Create a sample dataset with age and income data\n",
    "random_generator = np.random.default_rng(0)\n",
    "data = pd.DataFrame({\n",
    "    \"age\": random_generator.integers(18, 70, size=100),\n",
    "    \"income\": random_generator.normal(40000, 50000, size=100),\n",
    "})\n",
    "\n",
    "# Set initial weights (all one in this example)\n",
    "weights = np.ones(len(data))\n",
    "\n",
    "# Calculate target values: total income for age groups 20-30 and 40-50 (as an example) or employ existing targets\n",
    "targets_matrix = pd.DataFrame({\n",
    "    \"income_aged_20_30\": ((data[\"age\"] >= 20) & (data[\"age\"] <= 30)).astype(float) * data[\"income\"],\n",
    "    \"income_aged_40_50\": ((data[\"age\"] >= 40) & (data[\"age\"] <= 50)).astype(float) * data[\"income\"],\n",
    "})\n",
    "\n",
    "# 15% higher than the sum of data with the original weights\n",
    "targets = np.array([\n",
    "    (targets_matrix[\"income_aged_20_30\"] * weights * 1.15).sum(), \n",
    "    (targets_matrix[\"income_aged_40_50\"] * weights * 1.15).sum(), \n",
    "])\n",
    "\n",
    "print(f\"Original weights: {weights}\")\n",
    "print(f\"Original targets: {targets}\")"
   ]
  },
  {
   "cell_type": "code",
   "execution_count": 5,
   "id": "xfw94bs21yl",
   "metadata": {},
   "outputs": [
    {
     "name": "stderr",
     "output_type": "stream",
     "text": [
      "microcalibrate.reweight - INFO - Starting calibration process for targets ['income_aged_20_30' 'income_aged_40_50']: [ 245346.0788293  1237963.09787856]\n",
      "microcalibrate.reweight - INFO - Original weights - mean: 1.0000, std: 0.0000\n",
      "microcalibrate.reweight - INFO - Initial weights after noise - mean: 1.0254, std: 0.0131\n",
      "Reweighting progress:   0%|          | 1/528 [00:00<02:05,  4.19epoch/s, loss=0.000768, count_observations=100, weights_mean=1.05, weights_std=0.0492, weights_min=0.911]microcalibrate.reweight - INFO - Epoch   10: Loss = 0.000768, Change = 0.011710 (improving)\n",
      "Reweighting progress:   0%|          | 1/528 [00:00<02:05,  4.19epoch/s, loss=0.000489, count_observations=100, weights_mean=1.05, weights_std=0.0646, weights_min=0.872]microcalibrate.reweight - INFO - Epoch   20: Loss = 0.000489, Change = 0.000278 (improving)\n",
      "Reweighting progress:   0%|          | 1/528 [00:00<02:05,  4.19epoch/s, loss=0.000203, count_observations=100, weights_mean=1.05, weights_std=0.0548, weights_min=0.885]microcalibrate.reweight - INFO - Epoch   30: Loss = 0.000203, Change = 0.000286 (improving)\n",
      "Reweighting progress:   0%|          | 1/528 [00:00<02:05,  4.19epoch/s, loss=0.000105, count_observations=100, weights_mean=1.05, weights_std=0.0497, weights_min=0.896]microcalibrate.reweight - INFO - Epoch   40: Loss = 0.000105, Change = 0.000098 (improving)\n",
      "Reweighting progress:   8%|▊         | 41/528 [00:00<00:03, 151.65epoch/s, loss=5.93e-6, count_observations=100, weights_mean=1.05, weights_std=0.0524, weights_min=0.888] microcalibrate.reweight - INFO - Epoch   50: Loss = 0.000006, Change = 0.000099 (improving)\n",
      "Reweighting progress:   8%|▊         | 41/528 [00:00<00:03, 151.65epoch/s, loss=1.07e-5, count_observations=100, weights_mean=1.05, weights_std=0.0548, weights_min=0.884]microcalibrate.reweight - INFO - Epoch   60: Loss = 0.000011, Change = -0.000005 (worsening)\n",
      "Reweighting progress:   8%|▊         | 41/528 [00:00<00:03, 151.65epoch/s, loss=1.25e-6, count_observations=100, weights_mean=1.05, weights_std=0.0528, weights_min=0.887]microcalibrate.reweight - INFO - Epoch   70: Loss = 0.000001, Change = 0.000009 (improving)\n",
      "Reweighting progress:   8%|▊         | 41/528 [00:00<00:03, 151.65epoch/s, loss=1.66e-6, count_observations=100, weights_mean=1.05, weights_std=0.0527, weights_min=0.887]microcalibrate.reweight - INFO - Epoch   80: Loss = 0.000002, Change = -0.000000 (worsening)\n",
      "Reweighting progress:  16%|█▌        | 84/528 [00:00<00:01, 247.17epoch/s, loss=7.12e-7, count_observations=100, weights_mean=1.05, weights_std=0.0536, weights_min=0.886]microcalibrate.reweight - INFO - Epoch   90: Loss = 0.000001, Change = 0.000001 (improving)\n",
      "Reweighting progress:  16%|█▌        | 84/528 [00:00<00:01, 247.17epoch/s, loss=1.3e-7, count_observations=100, weights_mean=1.05, weights_std=0.0531, weights_min=0.887] microcalibrate.reweight - INFO - Epoch  100: Loss = 0.000000, Change = 0.000001 (improving)\n",
      "Reweighting progress:  16%|█▌        | 84/528 [00:00<00:01, 247.17epoch/s, loss=8.99e-8, count_observations=100, weights_mean=1.05, weights_std=0.0531, weights_min=0.887]microcalibrate.reweight - INFO - Epoch  110: Loss = 0.000000, Change = 0.000000 (improving)\n",
      "Reweighting progress:  16%|█▌        | 84/528 [00:00<00:01, 247.17epoch/s, loss=3.7e-8, count_observations=100, weights_mean=1.05, weights_std=0.0532, weights_min=0.886] microcalibrate.reweight - INFO - Epoch  120: Loss = 0.000000, Change = 0.000000 (improving)\n",
      "Reweighting progress:  16%|█▌        | 84/528 [00:00<00:01, 247.17epoch/s, loss=6.94e-9, count_observations=100, weights_mean=1.05, weights_std=0.0532, weights_min=0.887]microcalibrate.reweight - INFO - Epoch  130: Loss = 0.000000, Change = 0.000000 (improving)\n",
      "Reweighting progress:  25%|██▍       | 131/528 [00:00<00:01, 317.61epoch/s, loss=2.56e-9, count_observations=100, weights_mean=1.05, weights_std=0.0532, weights_min=0.887]microcalibrate.reweight - INFO - Epoch  140: Loss = 0.000000, Change = 0.000000 (improving)\n",
      "Reweighting progress:  25%|██▍       | 131/528 [00:00<00:01, 317.61epoch/s, loss=1.5e-9, count_observations=100, weights_mean=1.05, weights_std=0.0532, weights_min=0.886] microcalibrate.reweight - INFO - Epoch  150: Loss = 0.000000, Change = 0.000000 (improving)\n",
      "Reweighting progress:  25%|██▍       | 131/528 [00:00<00:01, 317.61epoch/s, loss=4.41e-10, count_observations=100, weights_mean=1.05, weights_std=0.0532, weights_min=0.887]microcalibrate.reweight - INFO - Epoch  160: Loss = 0.000000, Change = 0.000000 (improving)\n",
      "Reweighting progress:  25%|██▍       | 131/528 [00:00<00:01, 317.61epoch/s, loss=4.58e-11, count_observations=100, weights_mean=1.05, weights_std=0.0532, weights_min=0.887]microcalibrate.reweight - INFO - Epoch  170: Loss = 0.000000, Change = 0.000000 (improving)\n",
      "Reweighting progress:  25%|██▍       | 131/528 [00:00<00:01, 317.61epoch/s, loss=2.24e-12, count_observations=100, weights_mean=1.05, weights_std=0.0532, weights_min=0.887]microcalibrate.reweight - INFO - Epoch  180: Loss = 0.000000, Change = 0.000000 (improving)\n",
      "Reweighting progress:  34%|███▍      | 181/528 [00:00<00:00, 371.57epoch/s, loss=9.84e-12, count_observations=100, weights_mean=1.05, weights_std=0.0532, weights_min=0.887]microcalibrate.reweight - INFO - Epoch  190: Loss = 0.000000, Change = -0.000000 (worsening)\n",
      "Reweighting progress:  34%|███▍      | 181/528 [00:00<00:00, 371.57epoch/s, loss=7.76e-12, count_observations=100, weights_mean=1.05, weights_std=0.0532, weights_min=0.887]microcalibrate.reweight - INFO - Epoch  200: Loss = 0.000000, Change = 0.000000 (improving)\n",
      "Reweighting progress:  34%|███▍      | 181/528 [00:00<00:00, 371.57epoch/s, loss=3.32e-12, count_observations=100, weights_mean=1.05, weights_std=0.0532, weights_min=0.887]microcalibrate.reweight - INFO - Epoch  210: Loss = 0.000000, Change = 0.000000 (improving)\n",
      "Reweighting progress:  34%|███▍      | 181/528 [00:00<00:00, 371.57epoch/s, loss=8.1e-13, count_observations=100, weights_mean=1.05, weights_std=0.0532, weights_min=0.887] microcalibrate.reweight - INFO - Epoch  220: Loss = 0.000000, Change = 0.000000 (improving)\n",
      "Reweighting progress:  44%|████▎     | 230/528 [00:00<00:00, 408.18epoch/s, loss=7.11e-14, count_observations=100, weights_mean=1.05, weights_std=0.0532, weights_min=0.887]microcalibrate.reweight - INFO - Epoch  230: Loss = 0.000000, Change = 0.000000 (improving)\n",
      "Reweighting progress:  44%|████▎     | 230/528 [00:00<00:00, 408.18epoch/s, loss=1.32e-14, count_observations=100, weights_mean=1.05, weights_std=0.0532, weights_min=0.887]microcalibrate.reweight - INFO - Epoch  240: Loss = 0.000000, Change = 0.000000 (improving)\n",
      "Reweighting progress:  44%|████▎     | 230/528 [00:00<00:00, 408.18epoch/s, loss=3.75e-14, count_observations=100, weights_mean=1.05, weights_std=0.0532, weights_min=0.887]microcalibrate.reweight - INFO - Epoch  250: Loss = 0.000000, Change = -0.000000 (worsening)\n",
      "Reweighting progress:  44%|████▎     | 230/528 [00:00<00:00, 408.18epoch/s, loss=5.1e-15, count_observations=100, weights_mean=1.05, weights_std=0.0532, weights_min=0.887] microcalibrate.reweight - INFO - Epoch  260: Loss = 0.000000, Change = 0.000000 (improving)\n",
      "Reweighting progress:  44%|████▎     | 230/528 [00:00<00:00, 408.18epoch/s, loss=5.1e-15, count_observations=100, weights_mean=1.05, weights_std=0.0532, weights_min=0.887]microcalibrate.reweight - INFO - Epoch  270: Loss = 0.000000, Change = 0.000000 (worsening)\n",
      "Reweighting progress:  52%|█████▏    | 277/528 [00:00<00:00, 425.15epoch/s, loss=5.1e-15, count_observations=100, weights_mean=1.05, weights_std=0.0532, weights_min=0.887]microcalibrate.reweight - INFO - Epoch  280: Loss = 0.000000, Change = 0.000000 (worsening)\n",
      "Reweighting progress:  52%|█████▏    | 277/528 [00:00<00:00, 425.15epoch/s, loss=5.1e-15, count_observations=100, weights_mean=1.05, weights_std=0.0532, weights_min=0.887]microcalibrate.reweight - INFO - Epoch  290: Loss = 0.000000, Change = 0.000000 (worsening)\n",
      "Reweighting progress:  52%|█████▏    | 277/528 [00:00<00:00, 425.15epoch/s, loss=0, count_observations=100, weights_mean=1.05, weights_std=0.0532, weights_min=0.887]      microcalibrate.reweight - INFO - Epoch  300: Loss = 0.000000, Change = 0.000000 (improving)\n",
      "Reweighting progress:  52%|█████▏    | 277/528 [00:00<00:00, 425.15epoch/s, loss=0, count_observations=100, weights_mean=1.05, weights_std=0.0532, weights_min=0.887]microcalibrate.reweight - INFO - Epoch  310: Loss = 0.000000, Change = 0.000000 (worsening)\n",
      "Reweighting progress:  52%|█████▏    | 277/528 [00:00<00:00, 425.15epoch/s, loss=0, count_observations=100, weights_mean=1.05, weights_std=0.0532, weights_min=0.887]microcalibrate.reweight - INFO - Epoch  320: Loss = 0.000000, Change = 0.000000 (worsening)\n",
      "Reweighting progress:  62%|██████▏   | 326/528 [00:00<00:00, 443.13epoch/s, loss=0, count_observations=100, weights_mean=1.05, weights_std=0.0532, weights_min=0.887]microcalibrate.reweight - INFO - Epoch  330: Loss = 0.000000, Change = 0.000000 (worsening)\n",
      "Reweighting progress:  62%|██████▏   | 326/528 [00:00<00:00, 443.13epoch/s, loss=0, count_observations=100, weights_mean=1.05, weights_std=0.0532, weights_min=0.887]microcalibrate.reweight - INFO - Epoch  340: Loss = 0.000000, Change = 0.000000 (worsening)\n",
      "Reweighting progress:  62%|██████▏   | 326/528 [00:01<00:00, 443.13epoch/s, loss=0, count_observations=100, weights_mean=1.05, weights_std=0.0532, weights_min=0.887]microcalibrate.reweight - INFO - Epoch  350: Loss = 0.000000, Change = 0.000000 (worsening)\n",
      "Reweighting progress:  62%|██████▏   | 326/528 [00:01<00:00, 443.13epoch/s, loss=0, count_observations=100, weights_mean=1.05, weights_std=0.0532, weights_min=0.887]microcalibrate.reweight - INFO - Epoch  360: Loss = 0.000000, Change = 0.000000 (worsening)\n",
      "Reweighting progress:  62%|██████▏   | 326/528 [00:01<00:00, 443.13epoch/s, loss=0, count_observations=100, weights_mean=1.05, weights_std=0.0532, weights_min=0.887]microcalibrate.reweight - INFO - Epoch  370: Loss = 0.000000, Change = 0.000000 (worsening)\n",
      "Reweighting progress:  71%|███████   | 374/528 [00:01<00:00, 453.20epoch/s, loss=0, count_observations=100, weights_mean=1.05, weights_std=0.0532, weights_min=0.887]microcalibrate.reweight - INFO - Epoch  380: Loss = 0.000000, Change = 0.000000 (worsening)\n",
      "Reweighting progress:  71%|███████   | 374/528 [00:01<00:00, 453.20epoch/s, loss=0, count_observations=100, weights_mean=1.05, weights_std=0.0532, weights_min=0.887]microcalibrate.reweight - INFO - Epoch  390: Loss = 0.000000, Change = 0.000000 (worsening)\n",
      "Reweighting progress:  71%|███████   | 374/528 [00:01<00:00, 453.20epoch/s, loss=0, count_observations=100, weights_mean=1.05, weights_std=0.0532, weights_min=0.887]microcalibrate.reweight - INFO - Epoch  400: Loss = 0.000000, Change = 0.000000 (worsening)\n",
      "Reweighting progress:  71%|███████   | 374/528 [00:01<00:00, 453.20epoch/s, loss=0, count_observations=100, weights_mean=1.05, weights_std=0.0532, weights_min=0.887]microcalibrate.reweight - INFO - Epoch  410: Loss = 0.000000, Change = 0.000000 (worsening)\n",
      "Reweighting progress:  71%|███████   | 374/528 [00:01<00:00, 453.20epoch/s, loss=0, count_observations=100, weights_mean=1.05, weights_std=0.0532, weights_min=0.887]microcalibrate.reweight - INFO - Epoch  420: Loss = 0.000000, Change = 0.000000 (worsening)\n",
      "Reweighting progress:  80%|███████▉  | 422/528 [00:01<00:00, 460.32epoch/s, loss=0, count_observations=100, weights_mean=1.05, weights_std=0.0532, weights_min=0.887]microcalibrate.reweight - INFO - Epoch  430: Loss = 0.000000, Change = 0.000000 (worsening)\n",
      "Reweighting progress:  80%|███████▉  | 422/528 [00:01<00:00, 460.32epoch/s, loss=0, count_observations=100, weights_mean=1.05, weights_std=0.0532, weights_min=0.887]microcalibrate.reweight - INFO - Epoch  440: Loss = 0.000000, Change = 0.000000 (worsening)\n",
      "Reweighting progress:  80%|███████▉  | 422/528 [00:01<00:00, 460.32epoch/s, loss=0, count_observations=100, weights_mean=1.05, weights_std=0.0532, weights_min=0.887]microcalibrate.reweight - INFO - Epoch  450: Loss = 0.000000, Change = 0.000000 (worsening)\n",
      "Reweighting progress:  80%|███████▉  | 422/528 [00:01<00:00, 460.32epoch/s, loss=0, count_observations=100, weights_mean=1.05, weights_std=0.0532, weights_min=0.887]microcalibrate.reweight - INFO - Epoch  460: Loss = 0.000000, Change = 0.000000 (worsening)\n",
      "Reweighting progress:  89%|████████▉ | 469/528 [00:01<00:00, 404.63epoch/s, loss=0, count_observations=100, weights_mean=1.05, weights_std=0.0532, weights_min=0.887]microcalibrate.reweight - INFO - Epoch  470: Loss = 0.000000, Change = 0.000000 (worsening)\n",
      "Reweighting progress:  89%|████████▉ | 469/528 [00:01<00:00, 404.63epoch/s, loss=0, count_observations=100, weights_mean=1.05, weights_std=0.0532, weights_min=0.887]microcalibrate.reweight - INFO - Epoch  480: Loss = 0.000000, Change = 0.000000 (worsening)\n",
      "Reweighting progress:  89%|████████▉ | 469/528 [00:01<00:00, 404.63epoch/s, loss=0, count_observations=100, weights_mean=1.05, weights_std=0.0532, weights_min=0.887]microcalibrate.reweight - INFO - Epoch  490: Loss = 0.000000, Change = 0.000000 (worsening)\n",
      "Reweighting progress:  89%|████████▉ | 469/528 [00:01<00:00, 404.63epoch/s, loss=0, count_observations=100, weights_mean=1.05, weights_std=0.0532, weights_min=0.887]microcalibrate.reweight - INFO - Epoch  500: Loss = 0.000000, Change = 0.000000 (worsening)\n",
      "Reweighting progress:  89%|████████▉ | 469/528 [00:01<00:00, 404.63epoch/s, loss=0, count_observations=100, weights_mean=1.05, weights_std=0.0532, weights_min=0.887]microcalibrate.reweight - INFO - Epoch  510: Loss = 0.000000, Change = 0.000000 (worsening)\n",
      "Reweighting progress:  98%|█████████▊| 517/528 [00:01<00:00, 424.43epoch/s, loss=0, count_observations=100, weights_mean=1.05, weights_std=0.0532, weights_min=0.887]microcalibrate.reweight - INFO - Epoch  520: Loss = 0.000000, Change = 0.000000 (worsening)\n",
      "Reweighting progress: 100%|██████████| 528/528 [00:01<00:00, 370.62epoch/s, loss=0, count_observations=100, weights_mean=1.05, weights_std=0.0532, weights_min=0.887]\n",
      "microcalibrate.reweight - INFO - Reweighting completed. Final sample size: 100\n"
     ]
    },
    {
     "name": "stdout",
     "output_type": "stream",
     "text": [
      "Original dataset size: 100\n",
      "Calibrated dataset size: 100\n",
      "Number of calibrated weights: 100\n"
     ]
    }
   ],
   "source": [
    "# Initialize the Calibration object\n",
    "calibrator = Calibration(\n",
    "    data=targets_matrix,\n",
    "    weights=weights, \n",
    "    targets=targets,\n",
    "    noise_level=0.05,\n",
    "    epochs=528,\n",
    "    learning_rate=0.01,\n",
    "    dropout_rate=0,\n",
    "    subsample_every=0,\n",
    ")\n",
    "\n",
    "# Perform the calibration\n",
    "calibrator.calibrate()\n",
    "\n",
    "print(f\"Original dataset size: {len(targets_matrix)}\")\n",
    "print(f\"Calibrated dataset size: {len(calibrator.data)}\")\n",
    "print(f\"Number of calibrated weights: {len(calibrator.weights)}\")"
   ]
  },
  {
   "cell_type": "code",
   "execution_count": 6,
   "id": "9djvjpfrhxb",
   "metadata": {},
   "outputs": [
    {
     "name": "stdout",
     "output_type": "stream",
     "text": [
      "Target totals: [ 245346.0788293  1237963.09787856]\n",
      "Final calibrated totals: [ 245345.08931117 1237962.17180683]\n",
      "Difference: [-0.98951813 -0.92607173]\n",
      "Relative error: [-4.03315241e-04 -7.48060854e-05]\n"
     ]
    }
   ],
   "source": [
    "# Calculate final weighted totals\n",
    "final_totals = targets_matrix.mul(calibrator.weights, axis=0).sum().values\n",
    "\n",
    "print(f\"Target totals: {targets}\")\n",
    "print(f\"Final calibrated totals: {final_totals}\")\n",
    "print(f\"Difference: {final_totals - targets}\")\n",
    "print(f\"Relative error: {(final_totals - targets) / targets * 100}\")"
   ]
  },
  {
   "cell_type": "code",
   "execution_count": 7,
   "id": "96cc818b",
   "metadata": {},
   "outputs": [],
   "source": [
    "np.testing.assert_allclose(\n",
    "        final_totals,\n",
    "        targets,\n",
    "        rtol=0.01,  # relative tolerance\n",
    "        err_msg=\"Calibrated totals do not match target values\",\n",
    "    )"
   ]
  },
  {
   "cell_type": "code",
   "execution_count": null,
   "id": "63840362",
   "metadata": {},
   "outputs": [],
   "source": []
  }
 ],
 "metadata": {
  "kernelspec": {
   "display_name": "pe",
   "language": "python",
   "name": "python3"
  },
  "language_info": {
   "codemirror_mode": {
    "name": "ipython",
    "version": 3
   },
   "file_extension": ".py",
   "mimetype": "text/x-python",
   "name": "python",
   "nbconvert_exporter": "python",
   "pygments_lexer": "ipython3",
   "version": "3.11.11"
  }
 },
 "nbformat": 4,
 "nbformat_minor": 5
}
